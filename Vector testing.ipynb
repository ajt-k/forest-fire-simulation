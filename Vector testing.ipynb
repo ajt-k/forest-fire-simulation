{
 "cells": [
  {
   "cell_type": "code",
   "execution_count": 29,
   "id": "e6c73705",
   "metadata": {},
   "outputs": [],
   "source": [
    "import numpy as np\n",
    "\n",
    "import matplotlib.pyplot as plt\n",
    "from perlin_numpy import (\n",
    "    generate_perlin_noise_2d, generate_fractal_noise_2d\n",
    ")\n"
   ]
  },
  {
   "cell_type": "code",
   "execution_count": 30,
   "id": "246a7f8f",
   "metadata": {},
   "outputs": [],
   "source": [
    "\n",
    "def magnitude(X,n,a):\n",
    "    \n",
    "    if a >=0:\n",
    "        \n",
    "        #I used to know how this worked, but I used a graph to figure it out\n",
    "        reg =  {(1,0):abs(a),(1,1):abs(a-45),(0,1):abs(a-90),\n",
    "                (-1,1):abs(a-135),(-1,0):abs(180-a),(-1,-1):abs(180-abs(a-45)),\n",
    "                (0,-1):abs(180-abs(a-90)),(1,-1):abs(180-abs(a-135))}\n",
    "    \n",
    "        d = n**(-(reg[X]/90)+1)\n",
    "    \n",
    "    if a<=0:\n",
    "        \n",
    "        a=-a\n",
    "        \n",
    "        #even more confused about this one\n",
    "\n",
    "        reg = { (1,0):abs(a),(1,1):abs(180-abs(a-135)),(0,1):abs(180-abs(a-90)),\n",
    "                    (-1,1):abs(180-abs(a-45)),(-1,0):abs(180-a),\n",
    "                    (-1,-1):abs(a-135),(0,-1):abs(a-90),(1,-1):abs(a-45)  }\n",
    "        \n",
    "        d = n**(-(reg[X]/90)+1)\n",
    "    return d"
   ]
  },
  {
   "cell_type": "code",
   "execution_count": 31,
   "id": "d12dbf80",
   "metadata": {},
   "outputs": [],
   "source": [
    "def calculate_vectors(tup,forest, wind_direction, fire_map):\n",
    "    region = [(1,0),(1,1),(0,1),(-1,1),(-1,0),(-1,-1),(0,-1),(1,-1)]\n",
    "    x = tup[0]\n",
    "    y = tup[1]\n",
    "  #divide fire fuel by 8 to evenly divide fuel among vectors\n",
    "    n = forest[x,y]/8\n",
    "        \n",
    "        #find x and y values for diagonal vectors\n",
    "    a = np.sqrt(2)*n/2\n",
    "        \n",
    "        #index 0 corresponds to first vector, look at drawings\n",
    "    vectors = [[n,0],[a,a],[0,n],[-a,a],[-n,0],[-a,-a],[0,-n],[a,-a]]\n",
    "        \n",
    "        #for loop uses p,q and i as double-data storage\n",
    "    for p,q in region:\n",
    "\n",
    "            #all factors used:\n",
    "        mag = 1.5\n",
    "            \n",
    "        c =  n*forest[x+p,y+q]*magnitude((p,q),mag,wind_direction[x,y])\n",
    "\n",
    "        i = region.index((p,q))\n",
    "         \n",
    "            #x value times change coefficient\n",
    "        vectors[i][0] *= c\n",
    "            \n",
    "            #y value times change coefficient\n",
    "        vectors[i][1] *= c\n",
    "\n",
    "    return vectors"
   ]
  },
  {
   "cell_type": "code",
   "execution_count": 32,
   "id": "03b4de14",
   "metadata": {},
   "outputs": [],
   "source": [
    "def Round(x):\n",
    "    if x>0:\n",
    "        return (int)(x+0.5)\n",
    "    else:\n",
    "        return (int)(x-0.5)"
   ]
  },
  {
   "cell_type": "code",
   "execution_count": 36,
   "id": "edb3814f",
   "metadata": {
    "scrolled": true
   },
   "outputs": [
    {
     "name": "stdout",
     "output_type": "stream",
     "text": [
      "[[1.224744871391589, 0.0], [1.0606601717798214, 1.0606601717798214], [0.0, 1.224744871391589], [-0.7071067811865476, 0.7071067811865476], [-0.816496580927726, 0.0], [-0.4714045207910317, -0.4714045207910317], [0.0, -0.816496580927726], [0.7071067811865476, -0.7071067811865476]]\n"
     ]
    },
    {
     "data": {
      "image/png": "[encoded data removed]",
      "text/plain": [
       "<Figure size 360x360 with 1 Axes>"
      ]
     },
     "metadata": {
      "needs_background": "light"
     },
     "output_type": "display_data"
    }
   ],
   "source": [
    "\n",
    "forest = np.zeros((16,16),dtype = float)\n",
    "fire_map = np.zeros((16,16),dtype = float)\n",
    "wind_direction = np.zeros((16,16),dtype=float)\n",
    "fire_map[8,8] = 1\n",
    "\n",
    "\n",
    "#initialize list of where fire starts from to iterate from\n",
    "lst = []\n",
    "for x in range(0,16):\n",
    "    for y in range(0,16):\n",
    "        \n",
    "        #wind direction\n",
    "        wind_direction[x,y] += 45\n",
    "        \n",
    "        if fire_map[x,y]>0:\n",
    "            lst.append((x,y))\n",
    "            \n",
    "#initialize forest weights     \n",
    "for x in forest:\n",
    "    x+=4\n",
    "    \n",
    "\n",
    "\n",
    "\n",
    "\n",
    "\n",
    "    \n",
    "vectors = calculate_vectors(lst[0],forest, wind_direction, fire_map)\n",
    "\n",
    "\n",
    "def fire_spread(lst,forest, wind_direction,fire_map):\n",
    "    \n",
    "    for x,y in lst:\n",
    "        vectors = calculate_vectors((x,y),forest,wind_direction,fire_map)\n",
    "        \n",
    "       # for i in vectors:\n",
    "         #   vectors[vectors.index(i)] = [Round(i[0]),Round(i[1])]\n",
    "        print(vectors)\n",
    "            \n",
    "fire_spread(lst,forest, wind_direction,fire_map)  \n",
    "    \n",
    "\n",
    "##plot result\n",
    "\n",
    "#x1 and y1 + ceneter\n",
    "x1 = [0]\n",
    "y1 = [0]\n",
    "        \n",
    "for x,y in vectors:\n",
    "    \n",
    "    x1.append(x)\n",
    "    y1.append(y)\n",
    "\n",
    "    \n",
    "plt.figure(figsize=(5,5)) \n",
    "plt.scatter(x1, y1)\n",
    "\n",
    "plt.xlim(-3, 3)\n",
    "plt.ylim(-3, 3)\n",
    "plt.grid()\n",
    "plt.show()\n",
    "\n",
    "      \n",
    "   \n",
    "               \n",
    "        \n",
    "        #each of the first terms corresponds to a vector from the center\n",
    "        # each of the second terms corresponds to adjusted value\n",
    "       \n",
    "        \n",
    "           \n",
    "     \n",
    "\n",
    "                \n",
    "            \n",
    "        \n",
    "    \n"
   ]
  },
  {
   "cell_type": "code",
   "execution_count": null,
   "id": "b680043a",
   "metadata": {},
   "outputs": [],
   "source": []
  },
  {
   "cell_type": "code",
   "execution_count": null,
   "id": "14afcc2c",
   "metadata": {},
   "outputs": [],
   "source": [
    "\n",
    "    \n",
    "    \n"
   ]
  },
  {
   "cell_type": "code",
   "execution_count": 6,
   "id": "f41ca46b",
   "metadata": {},
   "outputs": [
    {
     "ename": "IndentationError",
     "evalue": "unexpected indent (1145565954.py, line 4)",
     "output_type": "error",
     "traceback": [
      "\u001b[0;36m  Input \u001b[0;32mIn [6]\u001b[0;36m\u001b[0m\n\u001b[0;31m    for x,y in lst:\u001b[0m\n\u001b[0m    ^\u001b[0m\n\u001b[0;31mIndentationError\u001b[0m\u001b[0;31m:\u001b[0m unexpected indent\n"
     ]
    }
   ],
   "source": [
    "\n",
    "##Testing version:\n",
    "\n",
    "region = [(1,0),(1,1),(0,1),(-1,1),(-1,0),(-1,-1),(0,-1),(1,-1)]\n",
    "    for x,y in lst:\n",
    "        n = forest[x,y]/8\n",
    "        a = math.sqrt(2)*n/2\n",
    "        print(\"A\",a)\n",
    "        print(\"N\",n,\"\\n\")\n",
    "        \n",
    "        \n",
    "        vectors = [[n,0],[a,a],[0,n],[-a,a],[-n,0],[-a,-a],[0,-n],[a,-a]]\n",
    "        \n",
    "        print(\"First vectors\",vectors,\"\\n\")\n",
    "    \n",
    "        for p,q in region:\n",
    "\n",
    "            c =  n*forest[x+p,y+q]*magnitude((p,q),mag,wind_direction[x,y])\n",
    "            \n",
    "            i = region.index((p,q))\n",
    "            print(\"C\",c,\"\\n\")\n",
    "            #x value times change coefficient\n",
    "            vectors[i][0] *= c\n",
    "            #y value times change coefficient\n",
    "            vectors[i][1] *= c\n",
    "            print(vectors[i])\n",
    "        \n",
    "        print(\"After vectors\",vectors,\"\\n\")\n",
    "        return vectors"
   ]
  },
  {
   "cell_type": "code",
   "execution_count": null,
   "id": "e0681947",
   "metadata": {},
   "outputs": [],
   "source": []
  },
  {
   "cell_type": "code",
   "execution_count": null,
   "id": "a345b561",
   "metadata": {},
   "outputs": [],
   "source": []
  },
  {
   "cell_type": "code",
   "execution_count": 88,
   "id": "df35f1fa",
   "metadata": {},
   "outputs": [
    {
     "name": "stdout",
     "output_type": "stream",
     "text": [
      "[[0, 4], [15, 10], (5, 7)]\n"
     ]
    },
    {
     "data": {
      "text/plain": [
       "1"
      ]
     },
     "execution_count": 88,
     "metadata": {},
     "output_type": "execute_result"
    }
   ],
   "source": [
    "lst = [[0,4],[3,2],(5,7)]\n",
    "lst[1][0]*=5\n",
    "lst[1][1]*=5\n",
    "print(lst)\n",
    "lst.index([15,10])"
   ]
  },
  {
   "cell_type": "raw",
   "id": "4d992129",
   "metadata": {},
   "source": [
    "def fireSpread(forest,fire_map,lst,*args):\n",
    "    region = [(1,0),(1,1),(0,1),(-1,1),(-1,0),(-1,-1),(0,-1),(1,-1)]\n",
    "    for x,y in lst:\n",
    "        \n",
    "        \n",
    "        \n",
    "        \n",
    "        n = forest[x,y]/8\n",
    "        \n",
    "        \n",
    "        a = math.sqrt(2)*n/2\n",
    "        vectors = [[n,0],[a,a],[0,n],[-a,a],[-n,0],[-a,-a],[0,-n],[a,-a]]\n",
    "        \n",
    "        \n",
    "        \n",
    "        for i in range(0,7):\n",
    "            if i%2==0:\n",
    "                \n",
    "                vectors[i][0] *= n*forest[region[i]]\n",
    "                vectors[i][1] *= n*forest[region[i]]\n",
    "            else:\n",
    "                print(vectors)"
   ]
  }
 ],
 "metadata": {
  "kernelspec": {
   "display_name": "Python 3 (ipykernel)",
   "language": "python",
   "name": "python3"
  },
  "language_info": {
   "codemirror_mode": {
    "name": "ipython",
    "version": 3
   },
   "file_extension": ".py",
   "mimetype": "text/x-python",
   "name": "python",
   "nbconvert_exporter": "python",
   "pygments_lexer": "ipython3",
   "version": "3.9.12"
  }
 },
 "nbformat": 4,
 "nbformat_minor": 5
}
